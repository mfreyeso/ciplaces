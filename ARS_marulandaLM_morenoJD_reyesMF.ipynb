{
 "cells": [
  {
   "cell_type": "markdown",
   "metadata": {},
   "source": [
    "# Inteligencia Colectiva\n",
    "\n",
    "**Trabajo No. 2** \n",
    "\n",
    "1. Juan David Moreno Martinez\n",
    "2. Luis Miguel Marulanda \n",
    "3. Mario Fernando Reyes Ojeda"
   ]
  },
  {
   "cell_type": "markdown",
   "metadata": {},
   "source": [
    "### Crowdsensing y Smart Cities\n",
    "\n",
    "El desarrollo de nuevas tecnologías con base disruptiva genera nuevos escenarios de aplicación de la tecnología. Tópicos como internet de las cosas, geolocalización, telecomunicaciones y el desarrollo de nuevas interfaces soportan hoy poder tener un contexto virtual instantáneo del real. El uso masificado de nuevos servicios y productos con esta base tecnológica propone facilitar la decisiones y acciones del ser humano respecto a su entorno.\n",
    "\n",
    "Coherente a esto el concepto de **ciudades inteligentes** se relaciona al aprovechamiento de la tecnología para mejorar la cotidianidad de los ciudadanos desde la experiencia pasada y de otros, por tanto, la colaboración soporta la generación de una inteligencia colectiva que intenta beneficiar a todos. A nivel específico crowdsourcing utiliza la inteligencia colectiva para resolver problemas complejos dividiendo su resolución en tareas que la multitud puede ir resolviendo, de manera semejante **crowdsensing** propone la generación de información a la multitud para ofrecer recomendaciones, servicios o ayudas que puedan ser provechosas de acuerdo a su contexto o situación.\n"
   ]
  },
  {
   "cell_type": "markdown",
   "metadata": {},
   "source": [
    "### Descripcion del Problema\n",
    "\n",
    "Parte de la puesta en marcha de crowdsensing es establecer generadores de información. Gran parte de la cosecha de información que posteriormente genera valor es obtenida de la observación continua de un lugar, evento o situación durante un tiempo específico.\n",
    "\n",
    "Es importante resaltar que uno de los grandes retos de crowdsensing es diversificar sus métodos de cosecha, por tanto, la multitud no puede estar limitada a un solo receptor de información o un solo mecanismo de interacción, al contrario, se deben desarrollar nuevos enfoques del aprovechamiento de estas interfaces y la implementación de estrategias para el almacenamiento, integración y normalización de la información aportada.\n",
    "\n",
    "El trabajo desarrollado se suscribe a identificar nuevos mecanismos de integración de fuentes y generadores de información con base a una interface de localización para generar seeds de inteligencia colectiva. De manera específica se utilizará una origen de datos relacionado a la movilidad de la ciudad de Boston registrada por Waze y la utilización de la API de Google Places para construir un sistema de recomendación que soporte la experiencia de lugares tipificados y relacionados al punto destino registrado en la transacción hecha en Waze.\n"
   ]
  },
  {
   "cell_type": "markdown",
   "metadata": {},
   "source": [
    "### Descripcion de Datos\n",
    "\n",
    "Para el desarrollo del trabajo se utilizaron dos (2) datasets diferentes. El primer dataset consiste en datos de Waze (Waze Jam Data) el cual contiene información sobre el tráfico que está ocurriendo en determinado momento. Es importante resaltar que una de las formas en la que Waze se da cuenta de que hay tráfico en determinado lugar es por medio de las calificaciones/reporte que dan sus usuarios sobre el estado de la vía. Estructura del dataset:\n",
    "\n",
    "Total registros: 45299\n",
    "Total columnas: 17\n",
    "Columnas relevantes: street (inicio ruta), city, country, endNode (destino ruta), Length, level (calificación 0-5), delay, uuid (ID usuario)\n",
    "Origen datos: Boston, MA, US\n",
    "\n",
    "El segundo “dataset” se obtiene por medio de la conexión a la API de Google places la cual entrega información de diferentes lugares como restaurantes, centros comerciales, parques, etc. El valor de este dataset reside en las calificaciones que han dado las diferentes personas, los lugares que han visitado y sus gustos personales, ya que es posible realizar recomendaciones a partir de estos datos.\n",
    "\n",
    "Total registros: Depende del pull que se realice\n",
    "Total columnas: 19\n",
    "Columnas relevantes: id autor review, rating autor, rating del lugar, reviews asociados, dirección, geometría. \n",
    "Origen datos: Boston, MA, US\n"
   ]
  },
  {
   "cell_type": "markdown",
   "metadata": {},
   "source": [
    "#### Carga del Dataset Waze"
   ]
  },
  {
   "cell_type": "markdown",
   "metadata": {},
   "source": [
    "A continuación se hace la importación del dataset de Waze a traves de la libreria Pandas:"
   ]
  },
  {
   "cell_type": "code",
   "execution_count": 2,
   "metadata": {
    "collapsed": true
   },
   "outputs": [],
   "source": [
    "import pandas as pd\n",
    "import matplotlib.pyplot as plt\n",
    "from datetime import datetime"
   ]
  },
  {
   "cell_type": "code",
   "execution_count": 3,
   "metadata": {
    "collapsed": true
   },
   "outputs": [],
   "source": [
    "usecols = [i for i in range(0,13)] + [14]\n",
    "data = pd.read_csv('wazedata_clean.csv', sep = ',',\n",
    "                   encoding = 'utf8', header=None, low_memory=False, usecols=usecols)\n",
    "          \n",
    "data.columns = ['inject_date', 'street', 'city', 'country', \n",
    "                'delay', 'endNode', 'Length', 'level', 'pubMillis', 'roadType', 'speed', 'uuid',\n",
    "                'startTime', 'endTime']\n",
    "\n",
    "# Convertir columna fecha en tipo fecha formato UTC\n",
    "data['startTime'] = [datetime.strptime(d, '%m/%d/%Y %I:%M:%S %p') for d in data['startTime']]\n",
    "data['endTime'] = [datetime.strptime(d, '%m/%d/%Y %I:%M:%S %p') for d in data['endTime']]"
   ]
  },
  {
   "cell_type": "markdown",
   "metadata": {},
   "source": [
    "#### Acercamiento a la Serie de Tiempo Relacionada\n",
    "\n",
    "Para comprender los datos relacionados a la movilidad registrada por Waze se realiza primero un acercamiento a la serie de tiempo asociada a la colección de datos."
   ]
  },
  {
   "cell_type": "code",
   "execution_count": 161,
   "metadata": {
    "collapsed": true
   },
   "outputs": [],
   "source": [
    "dateserie=data.groupby('startTime')\n",
    "timeq=pd.DataFrame(dateserie.size().reset_index(name = \"ocurrencias\"))"
   ]
  },
  {
   "cell_type": "code",
   "execution_count": 162,
   "metadata": {},
   "outputs": [
    {
     "data": {
      "text/plain": [
       "<matplotlib.figure.Figure at 0x116864d68>"
      ]
     },
     "metadata": {},
     "output_type": "display_data"
    },
    {
     "data": {
      "text/plain": [
       "<matplotlib.figure.Figure at 0x11c0b5470>"
      ]
     },
     "metadata": {},
     "output_type": "display_data"
    },
    {
     "data": {
      "image/png": "[encoded data removed]",
      "text/plain": [
       "<matplotlib.figure.Figure at 0x11d159a20>"
      ]
     },
     "metadata": {},
     "output_type": "display_data"
    }
   ],
   "source": [
    "plt.figure()\n",
    "tsdate = timeq.set_index('startTime')\n",
    "tsdate.plot(figsize=(15, 6), color='b')\n",
    "plt.ylabel('Registros Waze')\n",
    "plt.xlabel('Fecha')\n",
    "plt.legend(['Registros Waze'], loc=1)\n",
    "plt.grid()\n",
    "plt.show()"
   ]
  },
  {
   "cell_type": "markdown",
   "metadata": {},
   "source": [
    "La grafica del campo **startTime** señala un comportamiento semejante durante 6 dias ( 23 de Febrero de 2015 a 1 de Marzo del 2015); no obstante para tener un mejor detalle de los registros se observa el atributo de hora de cada uno de los registros para el campo. De esta nueva observación se puede inferir alta movilidad desde el medio dia y luego un comportamiento constante con una ligera disminución durante las siguientes 12 horas."
   ]
  },
  {
   "cell_type": "code",
   "execution_count": 172,
   "metadata": {
    "collapsed": true
   },
   "outputs": [],
   "source": [
    "data['startHourTime'] = [d.time() for d in data['startTime']]\n",
    "ntime = data.groupby(by=[data.startHourTime.map(lambda x : (x.hour))])\n",
    "n2time=pd.DataFrame(ntime.size().reset_index(name = \"Registros Waze\"))\n",
    "newtime = n2time.set_index('startHourTime')"
   ]
  },
  {
   "cell_type": "code",
   "execution_count": 173,
   "metadata": {
    "scrolled": false
   },
   "outputs": [
    {
     "data": {
      "image/png": "[encoded data removed]",
      "text/plain": [
       "<matplotlib.figure.Figure at 0x11684bc18>"
      ]
     },
     "metadata": {},
     "output_type": "display_data"
    }
   ],
   "source": [
    "newtimep = newtime[['Registros Waze']].plot(kind='bar', figsize=(15, 6), color='g')\n",
    "newtimep.set_xlabel(\"Hora\")\n",
    "newtimep.set_ylabel(\"Registros Waze\")\n",
    "plt.show()"
   ]
  },
  {
   "cell_type": "markdown",
   "metadata": {},
   "source": [
    "#### Lugares de Destino (EndNodes)\n",
    "\n",
    "Considerando que la fuente de datos relaciona el lugar de destino se propone analizar si existe algun comportamiento semejante relacioado a un lugar, de forma especifica se espera poder identificar puntos geográficos significativos en la movilidad de Boston. A continuacion se realiza la revisión de este atributo."
   ]
  },
  {
   "cell_type": "code",
   "execution_count": 174,
   "metadata": {
    "scrolled": false
   },
   "outputs": [
    {
     "data": {
      "text/html": [
       "<div>\n",
       "<style scoped>\n",
       "    .dataframe tbody tr th:only-of-type {\n",
       "        vertical-align: middle;\n",
       "    }\n",
       "\n",
       "    .dataframe tbody tr th {\n",
       "        vertical-align: top;\n",
       "    }\n",
       "\n",
       "    .dataframe thead th {\n",
       "        text-align: right;\n",
       "    }\n",
       "</style>\n",
       "<table border=\"1\" class=\"dataframe\">\n",
       "  <thead>\n",
       "    <tr style=\"text-align: right;\">\n",
       "      <th></th>\n",
       "      <th>endNode</th>\n",
       "      <th>Group_Places</th>\n",
       "    </tr>\n",
       "  </thead>\n",
       "  <tbody>\n",
       "    <tr>\n",
       "      <th>1210</th>\n",
       "      <td>Washington St</td>\n",
       "      <td>2087</td>\n",
       "    </tr>\n",
       "    <tr>\n",
       "      <th>736</th>\n",
       "      <td>Massachusetts Ave</td>\n",
       "      <td>935</td>\n",
       "    </tr>\n",
       "    <tr>\n",
       "      <th>118</th>\n",
       "      <td>Blue Hill Ave</td>\n",
       "      <td>908</td>\n",
       "    </tr>\n",
       "    <tr>\n",
       "      <th>336</th>\n",
       "      <td>Dorchester Ave</td>\n",
       "      <td>745</td>\n",
       "    </tr>\n",
       "    <tr>\n",
       "      <th>1134</th>\n",
       "      <td>Tremont St</td>\n",
       "      <td>741</td>\n",
       "    </tr>\n",
       "    <tr>\n",
       "      <th>267</th>\n",
       "      <td>Commonwealth Ave</td>\n",
       "      <td>705</td>\n",
       "    </tr>\n",
       "    <tr>\n",
       "      <th>560</th>\n",
       "      <td>Harvard St</td>\n",
       "      <td>640</td>\n",
       "    </tr>\n",
       "    <tr>\n",
       "      <th>126</th>\n",
       "      <td>Boylston St</td>\n",
       "      <td>615</td>\n",
       "    </tr>\n",
       "    <tr>\n",
       "      <th>612</th>\n",
       "      <td>Huntington Ave</td>\n",
       "      <td>608</td>\n",
       "    </tr>\n",
       "    <tr>\n",
       "      <th>184</th>\n",
       "      <td>Cambridge St</td>\n",
       "      <td>566</td>\n",
       "    </tr>\n",
       "  </tbody>\n",
       "</table>\n",
       "</div>"
      ],
      "text/plain": [
       "                endNode  Group_Places\n",
       "1210      Washington St          2087\n",
       "736   Massachusetts Ave           935\n",
       "118       Blue Hill Ave           908\n",
       "336      Dorchester Ave           745\n",
       "1134         Tremont St           741\n",
       "267    Commonwealth Ave           705\n",
       "560          Harvard St           640\n",
       "126         Boylston St           615\n",
       "612      Huntington Ave           608\n",
       "184        Cambridge St           566"
      ]
     },
     "execution_count": 174,
     "metadata": {},
     "output_type": "execute_result"
    }
   ],
   "source": [
    "place_nodes=data.groupby('endNode', sort=True)\n",
    "places_frame=pd.DataFrame(place_nodes.size().reset_index(name = \"Group_Places\"))\n",
    "places_study = places_frame.sort_values('Group_Places', ascending=False)[:10]\n",
    "places_study\n"
   ]
  },
  {
   "cell_type": "markdown",
   "metadata": {},
   "source": [
    "Del resultado obtenido se observa que existen puntos geográficos en común entre ellos Washington Street y Massachusetts Avenue, por tanto se plantea revisar la movilidad respecto al tiempo en busqueda de evidenciar algun comportamiento disimil del general."
   ]
  },
  {
   "cell_type": "markdown",
   "metadata": {},
   "source": [
    "#### Tiempo sobre _Washington St_"
   ]
  },
  {
   "cell_type": "code",
   "execution_count": 188,
   "metadata": {
    "scrolled": true
   },
   "outputs": [
    {
     "data": {
      "text/plain": [
       "<matplotlib.figure.Figure at 0x11af972e8>"
      ]
     },
     "metadata": {},
     "output_type": "display_data"
    },
    {
     "data": {
      "text/plain": [
       "<matplotlib.figure.Figure at 0x11c0f21d0>"
      ]
     },
     "metadata": {},
     "output_type": "display_data"
    },
    {
     "data": {
      "text/plain": [
       "<matplotlib.figure.Figure at 0x1142b17b8>"
      ]
     },
     "metadata": {},
     "output_type": "display_data"
    },
    {
     "data": {
      "image/png": "[encoded data removed]",
      "text/plain": [
       "<matplotlib.figure.Figure at 0x11c0fd668>"
      ]
     },
     "metadata": {},
     "output_type": "display_data"
    }
   ],
   "source": [
    "placew = data[data['endNode'] == \"Washington St\"]\n",
    "\n",
    "ndate=placew.groupby('startTime')\n",
    "newdate=pd.DataFrame(ndate.size().reset_index(name = \"Group_Count\"))\n",
    "\n",
    "plt.figure()\n",
    "tsdate = newdate.set_index('startTime')\n",
    "tsdate.plot(figsize=(15, 6), color='b')\n",
    "plt.ylabel('Registros Waze')\n",
    "plt.xlabel('Fecha')\n",
    "plt.legend(['Registros Waze'], loc=1)\n",
    "plt.grid()\n",
    "plt.show()"
   ]
  },
  {
   "cell_type": "code",
   "execution_count": 179,
   "metadata": {
    "scrolled": false
   },
   "outputs": [
    {
     "name": "stderr",
     "output_type": "stream",
     "text": [
      "/usr/local/lib/python3.6/site-packages/ipykernel_launcher.py:1: SettingWithCopyWarning: \n",
      "A value is trying to be set on a copy of a slice from a DataFrame.\n",
      "Try using .loc[row_indexer,col_indexer] = value instead\n",
      "\n",
      "See the caveats in the documentation: http://pandas.pydata.org/pandas-docs/stable/indexing.html#indexing-view-versus-copy\n",
      "  \"\"\"Entry point for launching an IPython kernel.\n"
     ]
    },
    {
     "data": {
      "image/png": "[encoded data removed]",
      "text/plain": [
       "<matplotlib.figure.Figure at 0x119dd5fd0>"
      ]
     },
     "metadata": {},
     "output_type": "display_data"
    }
   ],
   "source": [
    "placew['startHourTime'] = [d.time() for d in placew['startTime']]\n",
    "placew.head()\n",
    "\n",
    "ntimew = placew.groupby(by=[placew.startHourTime.map(lambda x : (x.hour))])\n",
    "n2timew=pd.DataFrame(ntimew.size().reset_index(name = \"Registros Waze\"))\n",
    "newtimew = n2timew.set_index('startHourTime')\n",
    "\n",
    "newtimepw = newtimew[['Registros Waze']].plot(kind='bar', figsize=(15, 6), color='g')\n",
    "newtimepw.set_xlabel(\"Hora\")\n",
    "newtimepw.set_ylabel(\"Registros\")\n",
    "plt.show()"
   ]
  },
  {
   "cell_type": "markdown",
   "metadata": {},
   "source": [
    "Se puede observar en la anteriores graficas que el comportamiento de Washington St no varia significativamente del analizado para toda la ciudad."
   ]
  },
  {
   "cell_type": "markdown",
   "metadata": {},
   "source": [
    "#### Tiempo de Espera (Delay)\n",
    "\n",
    "De acuerdo a la información del dataset el campo _delay_ representa una estimador relacionado a la espera o congestión en la solicitud hecha al servicio de Waze. El valor -1 representa movilidad adecuada y se encuentra estrechamente relacionada al campo nivel que representa una calificación para la ruta."
   ]
  },
  {
   "cell_type": "code",
   "execution_count": 190,
   "metadata": {},
   "outputs": [
    {
     "data": {
      "text/html": [
       "<div>\n",
       "<style scoped>\n",
       "    .dataframe tbody tr th:only-of-type {\n",
       "        vertical-align: middle;\n",
       "    }\n",
       "\n",
       "    .dataframe tbody tr th {\n",
       "        vertical-align: top;\n",
       "    }\n",
       "\n",
       "    .dataframe thead th {\n",
       "        text-align: right;\n",
       "    }\n",
       "</style>\n",
       "<table border=\"1\" class=\"dataframe\">\n",
       "  <thead>\n",
       "    <tr style=\"text-align: right;\">\n",
       "      <th></th>\n",
       "      <th>delay</th>\n",
       "      <th>Ocurrencias</th>\n",
       "    </tr>\n",
       "  </thead>\n",
       "  <tbody>\n",
       "    <tr>\n",
       "      <th>0</th>\n",
       "      <td>-1</td>\n",
       "      <td>759</td>\n",
       "    </tr>\n",
       "    <tr>\n",
       "      <th>38</th>\n",
       "      <td>73</td>\n",
       "      <td>460</td>\n",
       "    </tr>\n",
       "    <tr>\n",
       "      <th>41</th>\n",
       "      <td>76</td>\n",
       "      <td>458</td>\n",
       "    </tr>\n",
       "    <tr>\n",
       "      <th>39</th>\n",
       "      <td>74</td>\n",
       "      <td>455</td>\n",
       "    </tr>\n",
       "    <tr>\n",
       "      <th>37</th>\n",
       "      <td>72</td>\n",
       "      <td>453</td>\n",
       "    </tr>\n",
       "    <tr>\n",
       "      <th>31</th>\n",
       "      <td>66</td>\n",
       "      <td>451</td>\n",
       "    </tr>\n",
       "    <tr>\n",
       "      <th>35</th>\n",
       "      <td>70</td>\n",
       "      <td>445</td>\n",
       "    </tr>\n",
       "    <tr>\n",
       "      <th>33</th>\n",
       "      <td>68</td>\n",
       "      <td>441</td>\n",
       "    </tr>\n",
       "    <tr>\n",
       "      <th>26</th>\n",
       "      <td>61</td>\n",
       "      <td>438</td>\n",
       "    </tr>\n",
       "    <tr>\n",
       "      <th>25</th>\n",
       "      <td>60</td>\n",
       "      <td>434</td>\n",
       "    </tr>\n",
       "  </tbody>\n",
       "</table>\n",
       "</div>"
      ],
      "text/plain": [
       "    delay  Ocurrencias\n",
       "0      -1          759\n",
       "38     73          460\n",
       "41     76          458\n",
       "39     74          455\n",
       "37     72          453\n",
       "31     66          451\n",
       "35     70          445\n",
       "33     68          441\n",
       "26     61          438\n",
       "25     60          434"
      ]
     },
     "execution_count": 190,
     "metadata": {},
     "output_type": "execute_result"
    }
   ],
   "source": [
    "delay=data.groupby('delay')\n",
    "delaygroup=pd.DataFrame(delay.size().reset_index(name = \"Ocurrencias\"))\n",
    "delay_sort = delaygroup.sort_values('Ocurrencias', ascending=False)[:10]\n",
    "delay_sort\n"
   ]
  },
  {
   "cell_type": "markdown",
   "metadata": {},
   "source": [
    "### Obteniendo datos de Lugares respecto a los Puntos de Estudio\n",
    "\n",
    "Para establecer una base de inteligencia colectiva basada en crowdsensing de los lugares que se identificaron como significativos del dataset de Waze se plantea utilizar la API Places de Google que soporta lugares referenciados por otras personas previamente. Para realizar este proceso se implementaron handlers e interfaces para hacer el consumo de la API de forma personalizable. A continuacion se carga el codigo relacionado.  "
   ]
  },
  {
   "cell_type": "code",
   "execution_count": 193,
   "metadata": {
    "collapsed": true
   },
   "outputs": [],
   "source": [
    "# %load main.py\n",
    "import json\n",
    "import csv\n",
    "import configparser\n",
    "\n",
    "import collectivegmaps\n",
    "\n",
    "\n",
    "class HandlerData(object):\n",
    "\n",
    "    def __init__(self):\n",
    "        self.config = configparser.ConfigParser()\n",
    "\n",
    "    def loadconfig(self):\n",
    "        self.config.read('apicredentials.ini')\n",
    "\n",
    "        API_KEY_LOCATIONS = self.config['credentials']['geolocation']\n",
    "        API_KEY_PLACES = self.config['credentials']['places']\n",
    "\n",
    "        self.clocations = collectivegmaps.CollectiveLocations(\n",
    "            API_KEY_LOCATIONS)\n",
    "        self.cplaces = collectivegmaps.CollectivePlaces(API_KEY_PLACES)\n",
    "\n",
    "    def search_location(self, textplace):\n",
    "        result = self.clocations.get_geolocation(textplace)\n",
    "        location_coor = result[0]['geometry']['location']\n",
    "        location = (location_coor['lat'], location_coor['lng'])\n",
    "        return location\n",
    "\n",
    "    def get_place_information(self, placeId):\n",
    "        result = self.cplaces.place_details(placeId)\n",
    "        place = result['result']\n",
    "        return place\n",
    "\n",
    "    def search_places_radar(self, location, keyword, **kwargs):\n",
    "        result = self.cplaces.search_places_radar(location, keyword, **kwargs)\n",
    "        places_set = result['results']\n",
    "        return places_set\n",
    "\n",
    "    def search_places_near_position(self, location, keyword, type_rank):\n",
    "        result = self.cplaces.search_places_nearby(\n",
    "            location, keyword, type_rank)\n",
    "\n",
    "    def search_places_text(textplace, location):\n",
    "        result = self.cplaces.search_places_text(textplace, location)\n",
    "\n",
    "\n",
    "def pulling_data(place, num_items):\n",
    "    places_store = dict()\n",
    "    handler = HandlerData()\n",
    "    handler.loadconfig()\n",
    "\n",
    "    geocode = handler.search_location(place)\n",
    "\n",
    "    parameters = {'min_price': None, 'max_price': None}\n",
    "    place_types = ['restaurant', 'store', 'bar', 'cafe']\n",
    "\n",
    "    for tp in place_types:\n",
    "        places_store[tp] = list()\n",
    "        places = handler.search_places_radar(geocode, tp, **parameters)\n",
    "        print(\"Places Found: %s\" % len(places))\n",
    "\n",
    "        count = ind = 0\n",
    "\n",
    "        while (count < num_items and ind < len(places)):\n",
    "            placed = places[ind]\n",
    "            detail = handler.get_place_information(placed['place_id'])\n",
    "\n",
    "            if 'rating' in detail.keys() and 'reviews' in detail.keys():\n",
    "                places_store[tp].append(detail)\n",
    "                count += 1\n",
    "\n",
    "            ind += 1\n",
    "\n",
    "    return places_store\n",
    "\n",
    "handler = HandlerData()\n",
    "handler.loadconfig()\n"
   ]
  },
  {
   "cell_type": "markdown",
   "metadata": {},
   "source": [
    "Para cada lugar se realiza la consulta a la API de Google Places de maximo 100 lugares cercanos en un radio de 1 Kilometro."
   ]
  },
  {
   "cell_type": "code",
   "execution_count": 133,
   "metadata": {
    "scrolled": true
   },
   "outputs": [
    {
     "name": "stdout",
     "output_type": "stream",
     "text": [
      "Places Found: 37\n",
      "Places Found: 99\n",
      "Places Found: 21\n",
      "Places Found: 34\n",
      "Places Found: 72\n",
      "Places Found: 67\n",
      "Places Found: 37\n",
      "Places Found: 48\n",
      "Places Found: 20\n",
      "Places Found: 36\n",
      "Places Found: 11\n",
      "Places Found: 21\n",
      "Places Found: 58\n",
      "Places Found: 112\n",
      "Places Found: 48\n",
      "Places Found: 46\n",
      "Places Found: 196\n",
      "Places Found: 196\n",
      "Places Found: 140\n",
      "Places Found: 161\n",
      "Places Found: 20\n",
      "Places Found: 21\n",
      "Places Found: 13\n",
      "Places Found: 23\n",
      "Places Found: 36\n",
      "Places Found: 60\n",
      "Places Found: 22\n",
      "Places Found: 35\n",
      "Places Found: 187\n",
      "Places Found: 197\n",
      "Places Found: 156\n",
      "Places Found: 111\n",
      "Places Found: 178\n",
      "Places Found: 145\n",
      "Places Found: 99\n",
      "Places Found: 159\n",
      "Places Found: 192\n",
      "Places Found: 198\n",
      "Places Found: 187\n",
      "Places Found: 178\n"
     ]
    }
   ],
   "source": [
    "bigplace_store = dict()\n",
    "\n",
    "for place in places_study['endNode']:\n",
    "    place_string = \"%s, Boston MA\" % place\n",
    "    related_places = pulling_data(place_string, 100)\n",
    "    bigplace_store[place] = related_places\n",
    "    "
   ]
  },
  {
   "cell_type": "markdown",
   "metadata": {},
   "source": [
    "### Sistema de Recomendación de Lugares"
   ]
  },
  {
   "cell_type": "markdown",
   "metadata": {},
   "source": [
    "A partir de la información de lugares obtenida de la API Google Places a los puntos de destino más significativos identificados de los registros de Waze se propone desarrollar un sistema de recomendación basado en la experiencia de los usuarios que han realizado reviews previamente.\n",
    "\n",
    "La implementación es una adaptacion de la propuesta para construir un sistema de recomendación para Yelp. La implementación original puede ser referenciado en: http://csidsocialmedia.github.io/2014/04/04/A-Recommedation-system-based-on-Yelp-data.html"
   ]
  },
  {
   "cell_type": "code",
   "execution_count": 135,
   "metadata": {
    "collapsed": true
   },
   "outputs": [],
   "source": [
    "# Importacion de Librerias Adicionales\n",
    "import random\n",
    "import numpy as np\n",
    "from scipy.stats.stats import pearsonr\n"
   ]
  },
  {
   "cell_type": "markdown",
   "metadata": {},
   "source": [
    "La implementación utiliza la correlación de Pearson como medida de similaridad entre dos lugares y de acuerdo a la evaluación y experiencia del usuario buscará un lugar de acuerdo a sus preferencias. Una medida de similaridad como el coeficiente de Pearson explica que mientras el valor aumente mayor afinidad tiene los items asociados."
   ]
  },
  {
   "cell_type": "code",
   "execution_count": 138,
   "metadata": {
    "collapsed": true
   },
   "outputs": [],
   "source": [
    "def sim_pearson(prefs,p1,p2):\n",
    "    a = [(i, prefs[p1][i], prefs[p2][i]) for i in prefs[p1] if i in prefs[p2]]\n",
    "    if a and len(a) > 1:\n",
    "        b = np.array(a)[:,1:].astype(float)\n",
    "        return pearsonr(b[:,0], b[:,1])[0]\n",
    "    else:\n",
    "        return 0\n",
    "\n",
    "def topMatches(prefs,p1,n=5, similarity=sim_pearson):\n",
    "    scores=[(similarity(prefs,p1,other),other)\n",
    "                   for other in prefs if other!=p1]\n",
    "    scores.sort()\n",
    "    scores.reverse( )\n",
    "    return scores[0:n]\n",
    "\n",
    "def calculateSimilarItems(prefs,n=10):\n",
    "    result={}\n",
    "    c=0\n",
    "    for item in prefs:\n",
    "        c+=1\n",
    "        if c%1000==0: print(\"%d / %d\" %(c,len(prefs)))\n",
    "        scores=topMatches(prefs,item,n=n,similarity=sim_pearson)\n",
    "        result[item]=scores\n",
    "    return result\n",
    "\n"
   ]
  },
  {
   "cell_type": "markdown",
   "metadata": {
    "collapsed": true
   },
   "source": [
    "Para construir la base de experiencias y evaluaciones de los lugares y los usuarios se realiza un map a partir de sus opiniones. El siguiente codigo homologa la estructura propuesta para el dataset de Yelp e inicializa las estructura de forma semejante con la variación para el caso de los objetos entregados por Google Places."
   ]
  },
  {
   "cell_type": "code",
   "execution_count": 194,
   "metadata": {
    "collapsed": true
   },
   "outputs": [],
   "source": [
    "users_struct = dict() \n",
    "places_struct = dict()\n",
    "\n",
    "U = dict()\n",
    "P = dict()\n",
    "\n",
    "# Para el lugar Washington St\n",
    "keyplace = 'Washington St'\n",
    "restype = 'restaurant'\n",
    "\n",
    "places= bigplace_store[keyplace][restype]\n",
    "\n",
    "for pl in places:\n",
    "    place = pl['place_id']\n",
    "    rate_place = pl['rating']\n",
    "\n",
    "    if place not in P:\n",
    "        P[place] = pl\n",
    "\n",
    "    for r in pl['reviews']:\n",
    "        if 'author_url' not in r.keys():\n",
    "            continue\n",
    "\n",
    "        user = r['author_url'].split(\"/\")[-2]\n",
    "        if user not in U:\n",
    "            U['user'] = {'name': r['author_name'], 'url':r['author_url'], 'userId': user }\n",
    "        \n",
    "        rate_user = r['rating']\n",
    "        \n",
    "        if place not in places_struct:\n",
    "            places_struct[place] = dict()\n",
    "        else:\n",
    "            places_struct[place][user] = rate_user\n",
    "            \n",
    "        if user not in users_struct:\n",
    "            users_struct[user] = dict()\n",
    "        else:\n",
    "            users_struct[user][place] = rate_user\n",
    "\n",
    "itemsim=calculateSimilarItems(places_struct)"
   ]
  },
  {
   "cell_type": "code",
   "execution_count": 195,
   "metadata": {},
   "outputs": [
    {
     "name": "stderr",
     "output_type": "stream",
     "text": [
      "/usr/local/lib/python3.6/site-packages/numpy/core/fromnumeric.py:2909: RuntimeWarning: Mean of empty slice.\n",
      "  out=out, **kwargs)\n",
      "/usr/local/lib/python3.6/site-packages/numpy/core/_methods.py:80: RuntimeWarning: invalid value encountered in double_scalars\n",
      "  ret = ret.dtype.type(ret / rcount)\n"
     ]
    }
   ],
   "source": [
    "topshops={}\n",
    "for i in places_struct:\n",
    "    rates=list(places_struct[i].values())\n",
    "    mean=np.mean(rates)\n",
    "    if mean ==5:\n",
    "        topshops[i]=len(rates)\n",
    "\n",
    "topshops = [(score,item) for item,score in topshops.items()]\n",
    "topshops.sort()\n",
    "topshops.reverse()\n",
    "topshops = [(5.0,j) for i,j in topshops[:5]]"
   ]
  },
  {
   "cell_type": "code",
   "execution_count": 196,
   "metadata": {
    "scrolled": true
   },
   "outputs": [
    {
     "data": {
      "text/plain": [
       "[(5.0, \"Nick's Restaurant\"),\n",
       " (5.0, 'The Take Away'),\n",
       " (5.0, 'One Bistro'),\n",
       " (5.0, 'Minas Cafe Steakhouse')]"
      ]
     },
     "execution_count": 196,
     "metadata": {},
     "output_type": "execute_result"
    }
   ],
   "source": [
    "def getRecommendedItems(prefs,itemMatch,user):\n",
    "    userRatings=prefs[user]\n",
    "    scores={}\n",
    "    totalSim={}\n",
    "    # Loop over items rated by this user\n",
    "    for (item,rating) in userRatings.items():\n",
    "             # Loop over items similar to this one\n",
    "             for (similarity,item2) in itemMatch[item]:\n",
    "                    # Ignore if this user has already rated this item\n",
    "                    if item2 in userRatings: continue\n",
    "                    # Weighted sum of rating times similarity\n",
    "                    scores.setdefault(item2,0)\n",
    "                    scores[item2]+=similarity*rating\n",
    "                    # Sum of all the similarities\n",
    "                    totalSim.setdefault(item2,0)\n",
    "                    totalSim[item2]+=similarity\n",
    "    # Divide each total score by total weighting to get an average \n",
    "    rankings=[(score/totalSim[item],item) for item,score in scores.items() if score>0]\n",
    "    # Return the rankings from highest to lowest \n",
    "    rankings.sort( )\n",
    "    rankings.reverse( )\n",
    "    if rankings:\n",
    "        return  [(i,P[j]['name']) for i,j in rankings[:10]]\n",
    "    else:\n",
    "        return  [(i,P[j]['name']) for i,j in topshops]\n",
    "\n",
    "\n",
    "getRecommendedItems(users_struct,itemsim,random.sample(users_struct.keys(),1)[0])\n"
   ]
  }
 ],
 "metadata": {
  "kernelspec": {
   "display_name": "Python 3",
   "language": "python",
   "name": "python3"
  },
  "language_info": {
   "codemirror_mode": {
    "name": "ipython",
    "version": 3
   },
   "file_extension": ".py",
   "mimetype": "text/x-python",
   "name": "python",
   "nbconvert_exporter": "python",
   "pygments_lexer": "ipython3",
   "version": "3.6.0"
  }
 },
 "nbformat": 4,
 "nbformat_minor": 2
}
